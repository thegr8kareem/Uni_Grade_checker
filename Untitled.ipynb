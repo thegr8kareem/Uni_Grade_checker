{
 "cells": [
  {
   "cell_type": "code",
   "execution_count": 2,
   "id": "f43fcc99",
   "metadata": {},
   "outputs": [],
   "source": [
    "#  Importing important modules\n",
    "import pandas as pd\n",
    "import numpy as np\n",
    "import random as rd\n"
   ]
  },
  {
   "cell_type": "code",
   "execution_count": 10,
   "id": "4c0eb52a",
   "metadata": {},
   "outputs": [
    {
     "name": "stdout",
     "output_type": "stream",
     "text": [
      "Enter your marks for African Studies\n",
      "Enter your marks for AutoCad\n",
      "Enter your marks for Process eng\n",
      "Enter your marks for Engineering maths\n",
      "Enter your marks for English\n",
      "Enter your marks for Science\n",
      "Enter your marks for Energy PRoejct\n",
      "Enter your marks for Agric\n",
      "[('Student ID', 'sd'), ('Full name', 'wr'), ('E-mail', 'fg'), ('Program', 'hg'), ('African Studies', 54), ('AutoCad', 65), ('Process eng', 34), ('Engineering maths', 86), ('English', 56), ('Science', 98), ('Energy PRoejct', 76), ('Agric', 45)]\n",
      "Sure , then enter your details again\n",
      "Enter your marks for African Studies\n",
      "Enter your marks for AutoCad\n",
      "Enter your marks for Process eng\n",
      "Enter your marks for Engineering maths\n",
      "Enter your marks for English\n",
      "Enter your marks for Science\n",
      "Enter your marks for Energy PRoejct\n",
      "Enter your marks for Agric\n",
      "[('Student ID', 'df'), ('Full name', 'hj'), ('E-mail', 'uy'), ('Program', 'er'), ('African Studies', 45), ('AutoCad', 76), ('Process eng', 87), ('Engineering maths', 34), ('English', 54), ('Science', 56), ('Energy PRoejct', 76), ('Agric', 89)]\n",
      "Sure , then enter your details again\n",
      "Enter your marks for African Studies\n",
      "Enter your marks for AutoCad\n",
      "Enter your marks for Process eng\n",
      "Enter your marks for Engineering maths\n",
      "Enter your marks for English\n",
      "Enter your marks for Science\n",
      "Enter your marks for Energy PRoejct\n",
      "Enter your marks for Agric\n",
      "[('Student ID', 'fv'), ('Full name', 'hj'), ('E-mail', 'uy'), ('Program', 'tt'), ('African Studies', 33), ('AutoCad', 4), ('Process eng', 76), ('Engineering maths', 98), ('English', 56), ('Science', 34), ('Energy PRoejct', 23), ('Agric', 43)]\n"
     ]
    },
    {
     "data": {
      "text/html": [
       "<div>\n",
       "<style scoped>\n",
       "    .dataframe tbody tr th:only-of-type {\n",
       "        vertical-align: middle;\n",
       "    }\n",
       "\n",
       "    .dataframe tbody tr th {\n",
       "        vertical-align: top;\n",
       "    }\n",
       "\n",
       "    .dataframe thead th {\n",
       "        text-align: right;\n",
       "    }\n",
       "</style>\n",
       "<table border=\"1\" class=\"dataframe\">\n",
       "  <thead>\n",
       "    <tr style=\"text-align: right;\">\n",
       "      <th></th>\n",
       "      <th>Student ID</th>\n",
       "      <th>Full name</th>\n",
       "      <th>E-mail</th>\n",
       "      <th>Program</th>\n",
       "      <th>African Studies</th>\n",
       "      <th>AutoCad</th>\n",
       "      <th>Process eng</th>\n",
       "      <th>Engineering maths</th>\n",
       "      <th>English</th>\n",
       "      <th>Science</th>\n",
       "      <th>Energy PRoejct</th>\n",
       "      <th>Agric</th>\n",
       "    </tr>\n",
       "  </thead>\n",
       "  <tbody>\n",
       "    <tr>\n",
       "      <th>0</th>\n",
       "      <td>sd</td>\n",
       "      <td>wr</td>\n",
       "      <td>fg</td>\n",
       "      <td>hg</td>\n",
       "      <td>54</td>\n",
       "      <td>65</td>\n",
       "      <td>34</td>\n",
       "      <td>86</td>\n",
       "      <td>56</td>\n",
       "      <td>98</td>\n",
       "      <td>76</td>\n",
       "      <td>45</td>\n",
       "    </tr>\n",
       "    <tr>\n",
       "      <th>1</th>\n",
       "      <td>df</td>\n",
       "      <td>hj</td>\n",
       "      <td>uy</td>\n",
       "      <td>er</td>\n",
       "      <td>45</td>\n",
       "      <td>76</td>\n",
       "      <td>87</td>\n",
       "      <td>34</td>\n",
       "      <td>54</td>\n",
       "      <td>56</td>\n",
       "      <td>76</td>\n",
       "      <td>89</td>\n",
       "    </tr>\n",
       "    <tr>\n",
       "      <th>1</th>\n",
       "      <td>df</td>\n",
       "      <td>hj</td>\n",
       "      <td>uy</td>\n",
       "      <td>er</td>\n",
       "      <td>45</td>\n",
       "      <td>76</td>\n",
       "      <td>87</td>\n",
       "      <td>34</td>\n",
       "      <td>54</td>\n",
       "      <td>56</td>\n",
       "      <td>76</td>\n",
       "      <td>89</td>\n",
       "    </tr>\n",
       "    <tr>\n",
       "      <th>2</th>\n",
       "      <td>fv</td>\n",
       "      <td>hj</td>\n",
       "      <td>uy</td>\n",
       "      <td>tt</td>\n",
       "      <td>33</td>\n",
       "      <td>4</td>\n",
       "      <td>76</td>\n",
       "      <td>98</td>\n",
       "      <td>56</td>\n",
       "      <td>34</td>\n",
       "      <td>23</td>\n",
       "      <td>43</td>\n",
       "    </tr>\n",
       "    <tr>\n",
       "      <th>2</th>\n",
       "      <td>fv</td>\n",
       "      <td>hj</td>\n",
       "      <td>uy</td>\n",
       "      <td>tt</td>\n",
       "      <td>33</td>\n",
       "      <td>4</td>\n",
       "      <td>76</td>\n",
       "      <td>98</td>\n",
       "      <td>56</td>\n",
       "      <td>34</td>\n",
       "      <td>23</td>\n",
       "      <td>43</td>\n",
       "    </tr>\n",
       "  </tbody>\n",
       "</table>\n",
       "</div>"
      ],
      "text/plain": [
       "  Student ID Full name E-mail Program  African Studies  AutoCad  Process eng  \\\n",
       "0         sd        wr     fg      hg               54       65           34   \n",
       "1         df        hj     uy      er               45       76           87   \n",
       "1         df        hj     uy      er               45       76           87   \n",
       "2         fv        hj     uy      tt               33        4           76   \n",
       "2         fv        hj     uy      tt               33        4           76   \n",
       "\n",
       "   Engineering maths  English  Science  Energy PRoejct  Agric  \n",
       "0                 86       56       98              76     45  \n",
       "1                 34       54       56              76     89  \n",
       "1                 34       54       56              76     89  \n",
       "2                 98       56       34              23     43  \n",
       "2                 98       56       34              23     43  "
      ]
     },
     "execution_count": 10,
     "metadata": {},
     "output_type": "execute_result"
    }
   ],
   "source": [
    "colss = [\"Student ID\", 'Full name', 'E-mail', 'Program', 'African Studies', 'AutoCad',\n",
    "         'Process eng', 'Engineering maths', 'English', 'Science', 'Energy PRoejct', 'Agric']\n",
    "details = []\n",
    "inds = [0]\n",
    "all_dataframes = []\n",
    "indd = []\n",
    "\n",
    "i = 1\n",
    "\n",
    "\n",
    "# def var_gen():\n",
    "#     global var\n",
    "#     word = 'data'\n",
    "#     num = str(rd.randint(1, 1000))\n",
    "#     var = word + num\n",
    "\n",
    "#     return var\n",
    "\n",
    "def index_reset():\n",
    "    global inds\n",
    "    indexing = inds[0] += 1\n",
    "    inds.clear()\n",
    "    inds.append(indexing)\n",
    "\n",
    "\n",
    "def num():\n",
    "    global gradebook_restart\n",
    "    global dt\n",
    "\n",
    "    gradebook_restart = input(\n",
    "        'Do you want to use the gradebook again: ').capitalize()\n",
    "\n",
    "    if gradebook_restart == 'Yes':\n",
    "        print(\"Sure , then enter your details again\")\n",
    "        details.clear()\n",
    "        details_credentials()\n",
    "        index_reset()\n",
    "\n",
    "        new_zipped_data = list(zip(colss, details))\n",
    "        new_df = pd.DataFrame(dict(new_zipped_data), index=inds)\n",
    "        all_dataframes.append(new_df)\n",
    "        data1()\n",
    "\n",
    "    dt = pd.concat(all_dataframes)\n",
    "\n",
    "\n",
    "def details_marks():\n",
    "    # print('Enter the results for', {colss[j]}, ':')\n",
    "\n",
    "    q2 = int(input('Enter your mark for quiz 1: '))\n",
    "    # q3 = int(input('Enter your mark for quiz 2: '))\n",
    "    # q4 = int(input('Enter your mark for quiz 3: '))\n",
    "    # q5 = int(input('Enter your mark for quiz 4: '))\n",
    "    # q6 = int(input('Enter your mark for quiz 5: '))\n",
    "    total_marks = q2\n",
    "\n",
    "    details.append(total_marks)\n",
    "    return total_marks\n",
    "\n",
    "\n",
    "def details_credentials():\n",
    "    for i in range(len(colss)):\n",
    "        if i < 4:\n",
    "            raw_details = input((f\"Enter your details for {colss[i]}\"))\n",
    "            details.append(raw_details)\n",
    "        else:\n",
    "            print(f\"Enter your marks for {colss[i]}\")\n",
    "            details_marks()\n",
    "\n",
    "\n",
    "details_credentials()\n",
    "\n",
    "\n",
    "def raw_score():\n",
    "    df['Raw Score'] = df['African Studies'] + df[\"AutoCad\"] + df['Process eng'] + \\\n",
    "        df['Engineering maths'] + df['English'] + \\\n",
    "        df['Science'] + df['Energy PRoejct'] + df['Agric']\n",
    "\n",
    "\n",
    "def data1():\n",
    "    global df\n",
    "    global colss\n",
    "    global details\n",
    "\n",
    "    zipped_data = list(zip(colss, details))\n",
    "    print(zipped_data)\n",
    "    df = pd.DataFrame(dict(zipped_data), index=inds)\n",
    "    # raw_score()\n",
    "    all_dataframes.append(df)\n",
    "\n",
    "    num()\n",
    "\n",
    "\n",
    "data1()\n",
    "\n",
    "dt\n"
   ]
  },
  {
   "cell_type": "markdown",
   "id": "3b6d2c0c",
   "metadata": {},
   "source": []
  },
  {
   "cell_type": "code",
   "execution_count": 9,
   "id": "458a4bb6",
   "metadata": {},
   "outputs": [
    {
     "data": {
      "text/plain": [
       "[2]"
      ]
     },
     "execution_count": 9,
     "metadata": {},
     "output_type": "execute_result"
    }
   ],
   "source": [
    "df\n",
    "# data\n",
    "# gen\n",
    "# inds\n",
    "# vim\n",
    "# i\n",
    "all_dataframes\n",
    "inds\n",
    "# len(colss)\n",
    "# details\n"
   ]
  },
  {
   "cell_type": "code",
   "execution_count": 5,
   "id": "0def41b6",
   "metadata": {},
   "outputs": [
    {
     "data": {
      "text/plain": [
       "[2]"
      ]
     },
     "execution_count": 5,
     "metadata": {},
     "output_type": "execute_result"
    }
   ],
   "source": [
    "# num()\n",
    "# code\n",
    "inds\n"
   ]
  },
  {
   "cell_type": "code",
   "execution_count": null,
   "id": "84adb3f0",
   "metadata": {},
   "outputs": [],
   "source": [
    "new_df = pd.concat([df, data])\n",
    "new_df\n",
    "# new_df[['Agric']].sort(ascending = False)\n"
   ]
  },
  {
   "cell_type": "code",
   "execution_count": null,
   "id": "d5c1084e",
   "metadata": {},
   "outputs": [],
   "source": [
    "df.loc[:, ['African Studies', \"Agric\"]].sum()\n"
   ]
  },
  {
   "cell_type": "code",
   "execution_count": 76,
   "id": "7b2b832e",
   "metadata": {},
   "outputs": [
    {
     "data": {
      "text/plain": [
       "[4, 5]"
      ]
     },
     "execution_count": 76,
     "metadata": {},
     "output_type": "execute_result"
    }
   ],
   "source": [
    "i = [4]\n",
    "i.append(5)\n",
    "i\n"
   ]
  },
  {
   "cell_type": "code",
   "execution_count": null,
   "id": "ae957151",
   "metadata": {},
   "outputs": [],
   "source": []
  }
 ],
 "metadata": {
  "kernelspec": {
   "display_name": "base",
   "language": "python",
   "name": "python3"
  },
  "language_info": {
   "codemirror_mode": {
    "name": "ipython",
    "version": 3
   },
   "file_extension": ".py",
   "mimetype": "text/x-python",
   "name": "python",
   "nbconvert_exporter": "python",
   "pygments_lexer": "ipython3",
   "version": "3.9.12"
  },
  "vscode": {
   "interpreter": {
    "hash": "39c7b37d6762cfe19229bab84e4ee64294204dff90d2328d694afe7c1bd1a71d"
   }
  }
 },
 "nbformat": 4,
 "nbformat_minor": 5
}
