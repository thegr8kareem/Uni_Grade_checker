{
 "cells": [
  {
   "cell_type": "code",
   "execution_count": 11,
   "id": "f43fcc99",
   "metadata": {},
   "outputs": [],
   "source": [
    "#  Importing important modules\n",
    "import pandas as pd\n",
    "import numpy as np\n",
    "import random as rd\n"
   ]
  },
  {
   "cell_type": "markdown",
   "id": "3b6d2c0c",
   "metadata": {},
   "source": []
  },
  {
   "cell_type": "code",
   "execution_count": 17,
   "id": "1058bf4d",
   "metadata": {},
   "outputs": [
    {
     "name": "stdout",
     "output_type": "stream",
     "text": [
      "Enter your data for African Studies\n",
      "Enter your data for AutoCad\n",
      "Enter your data for Process eng\n",
      "Enter your data for Engineering maths\n",
      "Enter your data for English\n",
      "Enter your data for Science\n",
      "Enter your data for Energy Project\n",
      "Enter your data for Agric\n",
      "[('Student ID', 'df'), ('Full name', 'gf'), ('E-mail', 'sd'), ('Program', 'fd'), ('African Studies', 70.0), ('AutoCad', 34.0), ('Process eng', 80.80000000000001), ('Engineering maths', 62.6), ('English', 83.2), ('Science', 78.80000000000001), ('Energy Project', 77.80000000000001), ('Agric', 77.80000000000001)]\n",
      "Sure , then enter your details again\n",
      "Enter your data for African Studies\n",
      "Enter your data for AutoCad\n",
      "Enter your data for Process eng\n",
      "Enter your data for Engineering maths\n",
      "Enter your data for English\n",
      "Enter your data for Science\n",
      "Enter your data for Energy Project\n",
      "Enter your data for Agric\n"
     ]
    },
    {
     "ename": "ValueError",
     "evalue": "The truth value of a Series is ambiguous. Use a.empty, a.bool(), a.item(), a.any() or a.all().",
     "output_type": "error",
     "traceback": [
      "\u001b[1;31m---------------------------------------------------------------------------\u001b[0m",
      "\u001b[1;31mValueError\u001b[0m                                Traceback (most recent call last)",
      "\u001b[1;32mc:\\Users\\X-ANE\\Desktop\\Untitled Folder\\Uni_Grade_checker\\Untitled.ipynb Cell 3\u001b[0m in \u001b[0;36m<cell line: 147>\u001b[1;34m()\u001b[0m\n\u001b[0;32m    <a href='vscode-notebook-cell:/c%3A/Users/X-ANE/Desktop/Untitled%20Folder/Uni_Grade_checker/Untitled.ipynb#W2sZmlsZQ%3D%3D?line=141'>142</a>\u001b[0m     all_dataframes\u001b[39m.\u001b[39mappend(df)\n\u001b[0;32m    <a href='vscode-notebook-cell:/c%3A/Users/X-ANE/Desktop/Untitled%20Folder/Uni_Grade_checker/Untitled.ipynb#W2sZmlsZQ%3D%3D?line=143'>144</a>\u001b[0m     num()\n\u001b[1;32m--> <a href='vscode-notebook-cell:/c%3A/Users/X-ANE/Desktop/Untitled%20Folder/Uni_Grade_checker/Untitled.ipynb#W2sZmlsZQ%3D%3D?line=146'>147</a>\u001b[0m data1()\n\u001b[0;32m    <a href='vscode-notebook-cell:/c%3A/Users/X-ANE/Desktop/Untitled%20Folder/Uni_Grade_checker/Untitled.ipynb#W2sZmlsZQ%3D%3D?line=148'>149</a>\u001b[0m dt \u001b[39m=\u001b[39m pd\u001b[39m.\u001b[39mconcat(all_dataframes)\n\u001b[0;32m    <a href='vscode-notebook-cell:/c%3A/Users/X-ANE/Desktop/Untitled%20Folder/Uni_Grade_checker/Untitled.ipynb#W2sZmlsZQ%3D%3D?line=149'>150</a>\u001b[0m dt\n",
      "\u001b[1;32mc:\\Users\\X-ANE\\Desktop\\Untitled Folder\\Uni_Grade_checker\\Untitled.ipynb Cell 3\u001b[0m in \u001b[0;36mdata1\u001b[1;34m()\u001b[0m\n\u001b[0;32m    <a href='vscode-notebook-cell:/c%3A/Users/X-ANE/Desktop/Untitled%20Folder/Uni_Grade_checker/Untitled.ipynb#W2sZmlsZQ%3D%3D?line=140'>141</a>\u001b[0m raw_score()\n\u001b[0;32m    <a href='vscode-notebook-cell:/c%3A/Users/X-ANE/Desktop/Untitled%20Folder/Uni_Grade_checker/Untitled.ipynb#W2sZmlsZQ%3D%3D?line=141'>142</a>\u001b[0m all_dataframes\u001b[39m.\u001b[39mappend(df)\n\u001b[1;32m--> <a href='vscode-notebook-cell:/c%3A/Users/X-ANE/Desktop/Untitled%20Folder/Uni_Grade_checker/Untitled.ipynb#W2sZmlsZQ%3D%3D?line=143'>144</a>\u001b[0m num()\n",
      "\u001b[1;32mc:\\Users\\X-ANE\\Desktop\\Untitled Folder\\Uni_Grade_checker\\Untitled.ipynb Cell 3\u001b[0m in \u001b[0;36mnum\u001b[1;34m()\u001b[0m\n\u001b[0;32m     <a href='vscode-notebook-cell:/c%3A/Users/X-ANE/Desktop/Untitled%20Folder/Uni_Grade_checker/Untitled.ipynb#W2sZmlsZQ%3D%3D?line=94'>95</a>\u001b[0m     new_zipped_data \u001b[39m=\u001b[39m \u001b[39mlist\u001b[39m(\u001b[39mzip\u001b[39m(colss, details))\n\u001b[0;32m     <a href='vscode-notebook-cell:/c%3A/Users/X-ANE/Desktop/Untitled%20Folder/Uni_Grade_checker/Untitled.ipynb#W2sZmlsZQ%3D%3D?line=95'>96</a>\u001b[0m     new_df \u001b[39m=\u001b[39m pd\u001b[39m.\u001b[39mDataFrame(\u001b[39mdict\u001b[39m(new_zipped_data), index\u001b[39m=\u001b[39minds)\n\u001b[1;32m---> <a href='vscode-notebook-cell:/c%3A/Users/X-ANE/Desktop/Untitled%20Folder/Uni_Grade_checker/Untitled.ipynb#W2sZmlsZQ%3D%3D?line=96'>97</a>\u001b[0m     raw_score2()\n\u001b[0;32m     <a href='vscode-notebook-cell:/c%3A/Users/X-ANE/Desktop/Untitled%20Folder/Uni_Grade_checker/Untitled.ipynb#W2sZmlsZQ%3D%3D?line=97'>98</a>\u001b[0m     all_dataframes\u001b[39m.\u001b[39mappend(new_df)\n\u001b[0;32m    <a href='vscode-notebook-cell:/c%3A/Users/X-ANE/Desktop/Untitled%20Folder/Uni_Grade_checker/Untitled.ipynb#W2sZmlsZQ%3D%3D?line=99'>100</a>\u001b[0m gradebook_restart \u001b[39m=\u001b[39m \u001b[39minput\u001b[39m(\n\u001b[0;32m    <a href='vscode-notebook-cell:/c%3A/Users/X-ANE/Desktop/Untitled%20Folder/Uni_Grade_checker/Untitled.ipynb#W2sZmlsZQ%3D%3D?line=100'>101</a>\u001b[0m     \u001b[39m'\u001b[39m\u001b[39mDo you want to use the gradebook again[ Y / N]: \u001b[39m\u001b[39m'\u001b[39m)\u001b[39m.\u001b[39mcapitalize()\n",
      "\u001b[1;32mc:\\Users\\X-ANE\\Desktop\\Untitled Folder\\Uni_Grade_checker\\Untitled.ipynb Cell 3\u001b[0m in \u001b[0;36mraw_score2\u001b[1;34m()\u001b[0m\n\u001b[0;32m     <a href='vscode-notebook-cell:/c%3A/Users/X-ANE/Desktop/Untitled%20Folder/Uni_Grade_checker/Untitled.ipynb#W2sZmlsZQ%3D%3D?line=62'>63</a>\u001b[0m     \u001b[39melse\u001b[39;00m:\n\u001b[0;32m     <a href='vscode-notebook-cell:/c%3A/Users/X-ANE/Desktop/Untitled%20Folder/Uni_Grade_checker/Untitled.ipynb#W2sZmlsZQ%3D%3D?line=63'>64</a>\u001b[0m         new_df[\u001b[39m'\u001b[39m\u001b[39mRank\u001b[39m\u001b[39m'\u001b[39m] \u001b[39m=\u001b[39m \u001b[39m'\u001b[39m\u001b[39mLower class\u001b[39m\u001b[39m'\u001b[39m\n\u001b[1;32m---> <a href='vscode-notebook-cell:/c%3A/Users/X-ANE/Desktop/Untitled%20Folder/Uni_Grade_checker/Untitled.ipynb#W2sZmlsZQ%3D%3D?line=64'>65</a>\u001b[0m new_ranking()\n",
      "\u001b[1;32mc:\\Users\\X-ANE\\Desktop\\Untitled Folder\\Uni_Grade_checker\\Untitled.ipynb Cell 3\u001b[0m in \u001b[0;36mraw_score2.<locals>.new_ranking\u001b[1;34m()\u001b[0m\n\u001b[0;32m     <a href='vscode-notebook-cell:/c%3A/Users/X-ANE/Desktop/Untitled%20Folder/Uni_Grade_checker/Untitled.ipynb#W2sZmlsZQ%3D%3D?line=51'>52</a>\u001b[0m \u001b[39mdef\u001b[39;00m \u001b[39mnew_ranking\u001b[39m():\n\u001b[1;32m---> <a href='vscode-notebook-cell:/c%3A/Users/X-ANE/Desktop/Untitled%20Folder/Uni_Grade_checker/Untitled.ipynb#W2sZmlsZQ%3D%3D?line=52'>53</a>\u001b[0m     \u001b[39mif\u001b[39;00m ( new_df[\u001b[39m'\u001b[39;49m\u001b[39mGrade\u001b[39;49m\u001b[39m'\u001b[39;49m] \u001b[39m>\u001b[39;49m \u001b[39m3.5\u001b[39;49m ) :\n\u001b[0;32m     <a href='vscode-notebook-cell:/c%3A/Users/X-ANE/Desktop/Untitled%20Folder/Uni_Grade_checker/Untitled.ipynb#W2sZmlsZQ%3D%3D?line=53'>54</a>\u001b[0m         new_df[\u001b[39m'\u001b[39m\u001b[39mRank\u001b[39m\u001b[39m'\u001b[39m] \u001b[39m=\u001b[39m \u001b[39m\"\u001b[39m\u001b[39mFirst class\u001b[39m\u001b[39m\"\u001b[39m\n\u001b[0;32m     <a href='vscode-notebook-cell:/c%3A/Users/X-ANE/Desktop/Untitled%20Folder/Uni_Grade_checker/Untitled.ipynb#W2sZmlsZQ%3D%3D?line=54'>55</a>\u001b[0m     \u001b[39melif\u001b[39;00m ( new_df[\u001b[39m'\u001b[39m\u001b[39mGrade\u001b[39m\u001b[39m'\u001b[39m] \u001b[39m>\u001b[39m \u001b[39m3.0\u001b[39m \u001b[39m&\u001b[39m new_df[\u001b[39m'\u001b[39m\u001b[39mGrade\u001b[39m\u001b[39m'\u001b[39m] \u001b[39m<\u001b[39m\u001b[39m=\u001b[39m \u001b[39m3.5\u001b[39m) :\n",
      "File \u001b[1;32mc:\\Users\\X-ANE\\anaconda3\\lib\\site-packages\\pandas\\core\\generic.py:1527\u001b[0m, in \u001b[0;36mNDFrame.__nonzero__\u001b[1;34m(self)\u001b[0m\n\u001b[0;32m   1525\u001b[0m \u001b[39m@final\u001b[39m\n\u001b[0;32m   1526\u001b[0m \u001b[39mdef\u001b[39;00m \u001b[39m__nonzero__\u001b[39m(\u001b[39mself\u001b[39m):\n\u001b[1;32m-> 1527\u001b[0m     \u001b[39mraise\u001b[39;00m \u001b[39mValueError\u001b[39;00m(\n\u001b[0;32m   1528\u001b[0m         \u001b[39mf\u001b[39m\u001b[39m\"\u001b[39m\u001b[39mThe truth value of a \u001b[39m\u001b[39m{\u001b[39;00m\u001b[39mtype\u001b[39m(\u001b[39mself\u001b[39m)\u001b[39m.\u001b[39m\u001b[39m__name__\u001b[39m\u001b[39m}\u001b[39;00m\u001b[39m is ambiguous. \u001b[39m\u001b[39m\"\u001b[39m\n\u001b[0;32m   1529\u001b[0m         \u001b[39m\"\u001b[39m\u001b[39mUse a.empty, a.bool(), a.item(), a.any() or a.all().\u001b[39m\u001b[39m\"\u001b[39m\n\u001b[0;32m   1530\u001b[0m     )\n",
      "\u001b[1;31mValueError\u001b[0m: The truth value of a Series is ambiguous. Use a.empty, a.bool(), a.item(), a.any() or a.all()."
     ]
    }
   ],
   "source": [
    "colss = [\"Student ID\", 'Full name', 'E-mail', 'Program', 'African Studies', 'AutoCad',\n",
    "         'Process eng', 'Engineering maths', 'English', 'Science', 'Energy Project', 'Agric']\n",
    "details = []\n",
    "inds = [0]\n",
    "all_dataframes = []\n",
    "indd = []\n",
    "\n",
    "i = 1\n",
    "\n",
    "\n",
    "# def var_gen():\n",
    "#     global var\n",
    "#     word = 'data'\n",
    "#     num = str(rd.randint(1, 1000))\n",
    "#     var = word + num\n",
    "def raw_score():\n",
    "    df['Raw Score'] = df['African Studies'] + df[\"AutoCad\"] + df['Process eng'] + \\\n",
    "        df['Engineering maths'] + df['English'] + \\\n",
    "        df['Science'] + df['Energy Project'] + df['Agric']\n",
    "    \n",
    "    # For the grades of results\n",
    "    def grades():\n",
    "        df['Grade'] = (df['Raw Score'] / 800) * 4\n",
    "    grades()\n",
    "\n",
    "    def ranking():\n",
    "        if ( df['Grade'] > 3.5 ) :\n",
    "            df['Rank'] = \"First class\"\n",
    "        elif ( df['Grade'] > 3.0 and df['Grade'] <= 3.5) :\n",
    "            df['Rank'] = 'Second class upper'\n",
    "        elif ( df['Grade'] > 2.5 and df['Grade'] <= 3.0) :\n",
    "            df['Rank'] = 'Second class lower'\n",
    "        elif ( df['Grade'] > 2.0 and df['Grade'] <= 2.5) :\n",
    "            df['Rank'] = 'Third class upper'\n",
    "        elif ( df['Grade'] > 1.5 and df['Grade'] <= 2.0) :\n",
    "            df['Rank'] = 'Third class lower'\n",
    "        else:\n",
    "            df['Rank'] = 'Lower class'\n",
    "        ranking()\n",
    "    \n",
    "\n",
    "    \n",
    "def raw_score2():\n",
    "    new_df['Raw Score'] = new_df['African Studies'] + new_df[\"AutoCad\"] + new_df['Process eng'] + \\\n",
    "        new_df['Engineering maths'] + new_df['English'] + \\\n",
    "        new_df['Science'] + new_df['Energy Project'] + new_df['Agric']\n",
    "    \n",
    "    def new_grades():\n",
    "        new_df['Grade'] = (new_df['Raw Score'] / 800) * 4\n",
    "    new_grades()    \n",
    "\n",
    "    def new_ranking():\n",
    "        if ( new_df['Grade'] > 3.5 ) :\n",
    "            new_df['Rank'] = \"First class\"\n",
    "        elif ( new_df['Grade'] > 3.0 & new_df['Grade'] <= 3.5) :\n",
    "            new_df['Rank'] = 'Second class upper'\n",
    "        elif ( new_df['Grade'] > 2.5 & new_df['Grade'] <= 3.0) :\n",
    "            new_df['Rank'] = 'Second class lower'\n",
    "        elif ( new_df['Grade'] > 2.0 & new_df['Grade'] <= 2.5) :\n",
    "            new_df['Rank'] = 'Third class upper'\n",
    "        elif ( new_df['Grade'] > 1.5 & new_df['Grade'] <= 2.0) :\n",
    "            new_df['Rank'] = 'Third class lower'\n",
    "        else:\n",
    "            new_df['Rank'] = 'Lower class'\n",
    "    new_ranking()\n",
    "\n",
    "\n",
    "#     return var\n",
    "def recall():\n",
    "    index_reset()\n",
    "    details.clear()\n",
    "    details_credentials()\n",
    "    data1()\n",
    "\n",
    "def index_reset():\n",
    "    global inds\n",
    "    indexing = inds[0] + 1\n",
    "    inds.clear()\n",
    "    inds.append(indexing)\n",
    "\n",
    "\n",
    "def num():\n",
    "    global gradebook_restart\n",
    "    global new_df\n",
    "\n",
    "    gradebook_restart = input(\n",
    "        'Do you want to use the gradebook again[ Y / N]: ').capitalize()\n",
    "\n",
    "    if gradebook_restart == 'Y':\n",
    "        print(\"Sure , then enter your details again\")\n",
    "        details.clear()\n",
    "        details_credentials()\n",
    "        index_reset()\n",
    "\n",
    "        new_zipped_data = list(zip(colss, details))\n",
    "        new_df = pd.DataFrame(dict(new_zipped_data), index=inds)\n",
    "        raw_score2()\n",
    "        all_dataframes.append(new_df)\n",
    "\n",
    "    gradebook_restart = input(\n",
    "        'Do you want to use the gradebook again[ Y / N]: ').capitalize()\n",
    "\n",
    "    if gradebook_restart == 'Y':\n",
    "        recall()\n",
    "        \n",
    "\n",
    "\n",
    "def details_marks():\n",
    "    # print('Enter the results for', {colss[j]}, ':')\n",
    "\n",
    "    q2 = int(input('Enter your mark for Midsem: '))\n",
    "    q3 = (int(input('Enter your mark for final examinations: ')) / 100 ) * 60\n",
    "    q4 = int(input('Enter your mark for Assessment: '))\n",
    "\n",
    "    total_marks = q2 + q3 + q4\n",
    "\n",
    "    details.append(total_marks)\n",
    "    return total_marks\n",
    "\n",
    "\n",
    "def details_credentials():\n",
    "    for i in range(len(colss)):\n",
    "        if i < 4:\n",
    "            raw_details = input((f\"Enter your details for {colss[i]}\"))\n",
    "            details.append(raw_details)\n",
    "        else:\n",
    "            print(f\"Enter your data for {colss[i]}\")\n",
    "            details_marks()\n",
    "\n",
    "\n",
    "details_credentials()\n",
    "\n",
    "def data1():\n",
    "    global df\n",
    "    global colss\n",
    "    global details\n",
    "\n",
    "    zipped_data = list(zip(colss, details))\n",
    "    print(zipped_data)\n",
    "    df = pd.DataFrame(dict(zipped_data), index=inds)\n",
    "    raw_score()\n",
    "    all_dataframes.append(df)\n",
    "\n",
    "    num()\n",
    "\n",
    "\n",
    "data1()\n",
    "\n",
    "dt = pd.concat(all_dataframes)\n",
    "dt"
   ]
  },
  {
   "cell_type": "code",
   "execution_count": 16,
   "id": "2a06f15d",
   "metadata": {},
   "outputs": [
    {
     "ename": "ValueError",
     "evalue": "The truth value of a Series is ambiguous. Use a.empty, a.bool(), a.item(), a.any() or a.all().",
     "output_type": "error",
     "traceback": [
      "\u001b[1;31m---------------------------------------------------------------------------\u001b[0m",
      "\u001b[1;31mValueError\u001b[0m                                Traceback (most recent call last)",
      "\u001b[1;32mc:\\Users\\X-ANE\\Desktop\\Untitled Folder\\Uni_Grade_checker\\Untitled.ipynb Cell 4\u001b[0m in \u001b[0;36m<cell line: 1>\u001b[1;34m()\u001b[0m\n\u001b[1;32m----> <a href='vscode-notebook-cell:/c%3A/Users/X-ANE/Desktop/Untitled%20Folder/Uni_Grade_checker/Untitled.ipynb#W4sZmlsZQ%3D%3D?line=0'>1</a>\u001b[0m \u001b[39mif\u001b[39;00m ( new_df[\u001b[39m'\u001b[39;49m\u001b[39mGrade\u001b[39;49m\u001b[39m'\u001b[39;49m] \u001b[39m>\u001b[39;49m \u001b[39m3.5\u001b[39;49m ) :\n\u001b[0;32m      <a href='vscode-notebook-cell:/c%3A/Users/X-ANE/Desktop/Untitled%20Folder/Uni_Grade_checker/Untitled.ipynb#W4sZmlsZQ%3D%3D?line=1'>2</a>\u001b[0m     new_df[\u001b[39m'\u001b[39m\u001b[39mRaw Score\u001b[39m\u001b[39m'\u001b[39m] \u001b[39m=\u001b[39m \u001b[39m\"\u001b[39m\u001b[39mFirst class \u001b[39m\u001b[39m\"\u001b[39m\n",
      "File \u001b[1;32mc:\\Users\\X-ANE\\anaconda3\\lib\\site-packages\\pandas\\core\\generic.py:1527\u001b[0m, in \u001b[0;36mNDFrame.__nonzero__\u001b[1;34m(self)\u001b[0m\n\u001b[0;32m   1525\u001b[0m \u001b[39m@final\u001b[39m\n\u001b[0;32m   1526\u001b[0m \u001b[39mdef\u001b[39;00m \u001b[39m__nonzero__\u001b[39m(\u001b[39mself\u001b[39m):\n\u001b[1;32m-> 1527\u001b[0m     \u001b[39mraise\u001b[39;00m \u001b[39mValueError\u001b[39;00m(\n\u001b[0;32m   1528\u001b[0m         \u001b[39mf\u001b[39m\u001b[39m\"\u001b[39m\u001b[39mThe truth value of a \u001b[39m\u001b[39m{\u001b[39;00m\u001b[39mtype\u001b[39m(\u001b[39mself\u001b[39m)\u001b[39m.\u001b[39m\u001b[39m__name__\u001b[39m\u001b[39m}\u001b[39;00m\u001b[39m is ambiguous. \u001b[39m\u001b[39m\"\u001b[39m\n\u001b[0;32m   1529\u001b[0m         \u001b[39m\"\u001b[39m\u001b[39mUse a.empty, a.bool(), a.item(), a.any() or a.all().\u001b[39m\u001b[39m\"\u001b[39m\n\u001b[0;32m   1530\u001b[0m     )\n",
      "\u001b[1;31mValueError\u001b[0m: The truth value of a Series is ambiguous. Use a.empty, a.bool(), a.item(), a.any() or a.all()."
     ]
    }
   ],
   "source": [
    "if ( new_df['Grade'] > 3.5 ) :\n",
    "    new_df['Raw Score'] = \"First class \""
   ]
  },
  {
   "cell_type": "code",
   "execution_count": 9,
   "id": "6873b091",
   "metadata": {},
   "outputs": [
    {
     "data": {
      "text/plain": [
       "0    5.596\n",
       "1    5.196\n",
       "Name: Raw Score, dtype: float64"
      ]
     },
     "execution_count": 9,
     "metadata": {},
     "output_type": "execute_result"
    }
   ],
   "source": [
    "(dt.iloc[inds,-1] / 800 ) / 4 \n",
    "(dt['Raw Score'] / 800) * 4"
   ]
  }
 ],
 "metadata": {
  "kernelspec": {
   "display_name": "base",
   "language": "python",
   "name": "python3"
  },
  "language_info": {
   "codemirror_mode": {
    "name": "ipython",
    "version": 3
   },
   "file_extension": ".py",
   "mimetype": "text/x-python",
   "name": "python",
   "nbconvert_exporter": "python",
   "pygments_lexer": "ipython3",
   "version": "3.9.12"
  },
  "vscode": {
   "interpreter": {
    "hash": "39c7b37d6762cfe19229bab84e4ee64294204dff90d2328d694afe7c1bd1a71d"
   }
  }
 },
 "nbformat": 4,
 "nbformat_minor": 5
}
